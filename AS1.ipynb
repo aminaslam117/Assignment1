{
 "cells": [
  {
   "cell_type": "markdown",
   "id": "f5c2cf80",
   "metadata": {},
   "source": [
    "# Get the Python Version"
   ]
  },
  {
   "cell_type": "code",
   "execution_count": 1,
   "id": "3be72d51",
   "metadata": {},
   "outputs": [
    {
     "name": "stdout",
     "output_type": "stream",
     "text": [
      "3.9.7\n"
     ]
    }
   ],
   "source": [
    "import platform\n",
    "print(platform.python_version())"
   ]
  },
  {
   "cell_type": "markdown",
   "id": "3f4eb2ac",
   "metadata": {},
   "source": [
    "# Get the Current Date and Time\n"
   ]
  },
  {
   "cell_type": "code",
   "execution_count": 2,
   "id": "d8479ef6",
   "metadata": {},
   "outputs": [
    {
     "name": "stdout",
     "output_type": "stream",
     "text": [
      "Current date and time : \n",
      "2022-01-02 18:21:43\n"
     ]
    }
   ],
   "source": [
    "import datetime\n",
    "now = datetime.datetime.now()\n",
    "print (\"Current date and time : \")\n",
    "print (now.strftime(\"%Y-%m-%d %H:%M:%S\"))"
   ]
  },
  {
   "cell_type": "markdown",
   "id": "7c617d0c",
   "metadata": {},
   "source": [
    "# Accept the Radius from the user and compute the Area"
   ]
  },
  {
   "cell_type": "code",
   "execution_count": 3,
   "id": "ceee899c",
   "metadata": {},
   "outputs": [
    {
     "name": "stdout",
     "output_type": "stream",
     "text": [
      "Input the radius of the circle : 7\n",
      "The area of the circle with radius 7.0 is: 153.93804002589985\n"
     ]
    }
   ],
   "source": [
    "# import math module\n",
    "from math import pi\n",
    " \n",
    "# take input from user\n",
    "r = float(input (\"Input the radius of the circle : \"))\n",
    " \n",
    "# compute the area from radius of a circle given by user\n",
    "calculateArea = str(pi * r**2);\n",
    " \n",
    "#print result\n",
    "print (\"The area of the circle with radius \" + str(r) + \" is: \" + calculateArea)"
   ]
  },
  {
   "cell_type": "markdown",
   "id": "4ed8d1e3",
   "metadata": {},
   "source": [
    "# Accept user first and last name and print it Reverse order with Space between them"
   ]
  },
  {
   "cell_type": "code",
   "execution_count": 4,
   "id": "bb1c075c",
   "metadata": {},
   "outputs": [
    {
     "name": "stdout",
     "output_type": "stream",
     "text": [
      "Input your First Name : Muhammad\n",
      "Input your Last Name : Amin\n",
      "Amin Muhammad\n"
     ]
    }
   ],
   "source": [
    "firstname = input(\"Input your First Name : \")\n",
    "lastname = input(\"Input your Last Name : \")\n",
    "print (lastname + \" \" + firstname)"
   ]
  },
  {
   "cell_type": "markdown",
   "id": "acf56e59",
   "metadata": {},
   "source": [
    "# Take two inputs from user and print them Addition"
   ]
  },
  {
   "cell_type": "code",
   "execution_count": 5,
   "id": "cbd85796",
   "metadata": {},
   "outputs": [
    {
     "name": "stdout",
     "output_type": "stream",
     "text": [
      "Enter first number: 4\n",
      "Enter second number: 4\n",
      "sum: 8\n"
     ]
    }
   ],
   "source": [
    "a = int(input(\"Enter first number: \"))\n",
    "b = int(input(\"Enter second number: \"))\n",
    "sum = a + b\n",
    "print(\"sum:\", sum)"
   ]
  },
  {
   "cell_type": "markdown",
   "id": "e3e4f2a3",
   "metadata": {},
   "source": [
    "# Print the string"
   ]
  },
  {
   "cell_type": "code",
   "execution_count": 7,
   "id": "83543b86",
   "metadata": {},
   "outputs": [
    {
     "name": "stdout",
     "output_type": "stream",
     "text": [
      "Twinkle, twinkle, little star, \n",
      "\tHow I wonder what you are! \n",
      "\t\tUp above the world so high, \n",
      "\t\tLike a diamond in the sky. \n",
      "Twinkle, twinkle, little star, \n",
      "\tHow I wonder what you are!\n"
     ]
    }
   ],
   "source": [
    "print(\"Twinkle, twinkle, little star, \\n\\tHow I wonder what you are! \\n\\t\\tUp above the world so high, \\n\\t\\tLike a diamond in the sky. \\nTwinkle, twinkle, little star, \\n\\tHow I wonder what you are!\")"
   ]
  },
  {
   "cell_type": "code",
   "execution_count": null,
   "id": "f9fb30b9",
   "metadata": {},
   "outputs": [],
   "source": []
  }
 ],
 "metadata": {
  "kernelspec": {
   "display_name": "Python 3 (ipykernel)",
   "language": "python",
   "name": "python3"
  },
  "language_info": {
   "codemirror_mode": {
    "name": "ipython",
    "version": 3
   },
   "file_extension": ".py",
   "mimetype": "text/x-python",
   "name": "python",
   "nbconvert_exporter": "python",
   "pygments_lexer": "ipython3",
   "version": "3.9.7"
  }
 },
 "nbformat": 4,
 "nbformat_minor": 5
}
